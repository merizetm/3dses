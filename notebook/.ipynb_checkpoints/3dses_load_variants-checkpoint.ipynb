{
 "cells": [
  {
   "cell_type": "markdown",
   "id": "55550b4a-8f16-40ba-a0e5-8e3246f7089e",
   "metadata": {},
   "source": [
    "# 3DSES: an indoor🏠 Lidar point cloud segmentation dataset with real 🖎 and pseudo-labels 🦾 from a 3D model"
   ]
  },
  {
   "cell_type": "code",
   "execution_count": 1,
   "id": "b315af89-3e31-4662-91c0-b556498176f7",
   "metadata": {},
   "outputs": [],
   "source": [
    "# Add the project's files to the python path\n",
    "import os, sys\n",
    "file_path = os.path.dirname(os.path.abspath(''))  # for .ipynb notebook\n",
    "sys.path.append(file_path)\n",
    "\n",
    "# Import python functions\n",
    "from dataloader.esgt import ESGT\n",
    "\n",
    "# Indicate the 3DSES point clouds directory\n",
    "    # Gold directory\n",
    "data_path_gold = '/media/quarta/LaCie1/ESGT_dataset/2_Dataset/Gold/Gold_npy/'\n",
    "    # Silver directory\n",
    "data_path_silver = '/media/quarta/LaCie1/ESGT_dataset/2_Dataset/Silver/Silver_npy/'\n",
    "    # Bronze directory\n",
    "data_path_bronze = '/media/quarta/LaCie1/ESGT_dataset/2_Dataset/Bronze/Bronze_annotated_npy/'"
   ]
  },
  {
   "cell_type": "markdown",
   "id": "4b29c25d-3d46-4c65-a20f-f8fa056a7695",
   "metadata": {},
   "source": [
    "### Gold🥇 : RGB (🎨) + Intensity (📶) and Real labels\n",
    "Load gold point clouds with colorimetric information and intensity for each point. Here we choose real-labels."
   ]
  },
  {
   "cell_type": "code",
   "execution_count": 2,
   "id": "ce282a62-1878-43a0-bed1-f8b80b6a9c29",
   "metadata": {},
   "outputs": [
    {
     "name": "stdout",
     "output_type": "stream",
     "text": [
      "Totally 5 samples in train set.\n",
      "Total repeated 5 samples in train set.\n",
      "==> After voxelization, the first point clouds have 76663 points.\n"
     ]
    }
   ],
   "source": [
    "# Instantiate dataset with Intensity and Real labels\n",
    "gold_real_labels = ESGT(\"train\",\n",
    "               data_root=data_path_gold,\n",
    "               test_area=[169, 179],\n",
    "               voxel_size=0.04,\n",
    "               voxel_max=None,\n",
    "               loop=30,\n",
    "               vote_num=1,\n",
    "               fea_channels='intensity, manuallabel')\n",
    "\n",
    "# Get the fisrt point cloud\n",
    "first_cloud = gold_real_labels.__getitem__(0)\n",
    "\n",
    "# Print some info\n",
    "print('==> After voxelization, the first point clouds have %d points.'%first_cloud[0].shape[0])"
   ]
  },
  {
   "cell_type": "markdown",
   "id": "eee92765-d193-428a-b362-a432e39a92ee",
   "metadata": {},
   "source": [
    "### Gold🥇 : RGB (🎨) and Pseudo labels\n",
    "Load gold point clouds with colorimetric information. Here we choose pseudo-labels."
   ]
  },
  {
   "cell_type": "code",
   "execution_count": 3,
   "id": "e0d631e4-571d-40bf-b190-3a3ed595be37",
   "metadata": {},
   "outputs": [
    {
     "name": "stdout",
     "output_type": "stream",
     "text": [
      "Totally 5 samples in train set.\n",
      "Total repeated 5 samples in train set.\n",
      "==> After voxelization, the first point clouds have 76663 points.\n"
     ]
    }
   ],
   "source": [
    "# Instantiate dataset with RGB and pseudo-labels\n",
    "gold_pseudo_labels = ESGT(\"train\",\n",
    "               data_root=data_path_gold,\n",
    "               test_area=[169, 179],\n",
    "               voxel_size=0.04,\n",
    "               voxel_max=None,\n",
    "               loop=30,\n",
    "               vote_num=1, fea_channels='')\n",
    "\n",
    "# Get the first point cloud\n",
    "first_cloud = gold_pseudo_labels.__getitem__(0)\n",
    "\n",
    "# Print some info\n",
    "print('==> After voxelization, the first point clouds have %d points.'%first_cloud[0].shape[0])"
   ]
  },
  {
   "cell_type": "markdown",
   "id": "f0a99c45-ab93-4a29-ae5b-b37446f184bd",
   "metadata": {},
   "source": [
    "### Silver🥈 : RGB (🎨) and Real labels"
   ]
  },
  {
   "cell_type": "code",
   "execution_count": 4,
   "id": "1cff6e86-aa04-418b-9789-36e7d3762ddc",
   "metadata": {},
   "outputs": [
    {
     "name": "stdout",
     "output_type": "stream",
     "text": [
      "Totally 25 samples in train set.\n",
      "Total repeated 25 samples in train set.\n",
      "==> After voxelization, the first point clouds have 97143 points.\n"
     ]
    }
   ],
   "source": [
    "# Instantiate dataset with RGB and pseudo-labels\n",
    "silver_real_labels = ESGT(\"train\",\n",
    "               data_root=data_path_silver,\n",
    "               test_area=[169, 179],\n",
    "               voxel_size=0.04,\n",
    "               voxel_max=None,\n",
    "               loop=30,\n",
    "               vote_num=1,\n",
    "               fea_channels='manuallabel')\n",
    "\n",
    "# Get the first point cloud\n",
    "first_cloud = silver_real_labels.__getitem__(0)\n",
    "\n",
    "# Print some info\n",
    "print('==> After voxelization, the first point clouds have %d points.'%first_cloud[0].shape[0])"
   ]
  },
  {
   "cell_type": "markdown",
   "id": "a50e46f8-7fcd-4473-a2e2-47f39bc7b2a8",
   "metadata": {},
   "source": [
    "### Bronze🥈 : RGB (🎨) & Intensity (📶) and Pseudo labels\n",
    "Load bronze point clouds with colorimetric information and intensity for each points. ⚠️ Caution ⚠️ Bronze only contains pseudo-labels."
   ]
  },
  {
   "cell_type": "code",
   "execution_count": 5,
   "id": "2865cdc1-6af4-424b-88e1-974e7d56dca9",
   "metadata": {},
   "outputs": [
    {
     "name": "stdout",
     "output_type": "stream",
     "text": [
      "Totally 37 samples in train set.\n",
      "Total repeated 37 samples in train set.\n",
      "==> After voxelization, the first point clouds have 67593 points\n"
     ]
    }
   ],
   "source": [
    "# Instantiate dataset with RGB and pseudo-labels\n",
    "bronze = ESGT(\"train\",\n",
    "               data_root=data_path_bronze,\n",
    "               test_area=[169, 179],\n",
    "               voxel_size=0.04,\n",
    "               voxel_max=None,\n",
    "               loop=30,\n",
    "               vote_num=1,\n",
    "               fea_channels='intensity')\n",
    "\n",
    "# Get the first point cloud\n",
    "first_cloud = bronze.__getitem__(0)\n",
    "\n",
    "# Print some info\n",
    "print('==> After voxelization, the first point clouds have %d points'%first_cloud[0].shape[0])"
   ]
  },
  {
   "cell_type": "code",
   "execution_count": null,
   "id": "cfca5702-39ae-4ac1-a546-de77250a6023",
   "metadata": {},
   "outputs": [],
   "source": []
  }
 ],
 "metadata": {
  "kernelspec": {
   "display_name": "Python 3 (ipykernel)",
   "language": "python",
   "name": "python3"
  },
  "language_info": {
   "codemirror_mode": {
    "name": "ipython",
    "version": 3
   },
   "file_extension": ".py",
   "mimetype": "text/x-python",
   "name": "python",
   "nbconvert_exporter": "python",
   "pygments_lexer": "ipython3",
   "version": "3.8.19"
  }
 },
 "nbformat": 4,
 "nbformat_minor": 5
}
